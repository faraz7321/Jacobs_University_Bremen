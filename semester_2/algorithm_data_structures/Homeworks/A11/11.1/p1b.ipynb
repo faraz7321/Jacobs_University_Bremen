{
  "metadata": {
    "language_info": {
      "codemirror_mode": {
        "name": "python",
        "version": 3
      },
      "file_extension": ".py",
      "mimetype": "text/x-python",
      "name": "python",
      "nbconvert_exporter": "python",
      "pygments_lexer": "ipython3",
      "version": "3.8"
    },
    "kernelspec": {
      "name": "python",
      "display_name": "Pyolite",
      "language": "python"
    }
  },
  "nbformat_minor": 4,
  "nbformat": 4,
  "cells": [
    {
      "cell_type": "code",
      "source": "class Node():\n    def __init__(self, key, value):\n        self.key = key\n        self.value = value",
      "metadata": {
        "trusted": true
      },
      "execution_count": 2,
      "outputs": []
    },
    {
      "cell_type": "code",
      "source": "class Map():\n    def __init__(self, maxSize):\n        self._maxSize = maxSize\n        self._arr = [None] * maxSize\n        self._currentSize = 0\n    \n    def _hashCode(self, key):\n        return hash(key) % self._maxSize\n\n    def insertNode(self, key, value):\n        if self._currentSize == self._maxSize:\n            raise Exception(\"MAX SIZE REACHED\")\n            return\n\n        # Creating a node\n        node = Node(key, value)\n        # Get the hash value\n        hashValue = self._hashCode(key)\n        \n        # Linear probing\n        index = hashValue\n        while self._arr[index] is not None:\n            index = (index + 1) % self._maxSize\n        self._arr[index] = node\n        self._currentSize += 1\n    \n    def get(self, key):\n        hashValue = self._hashCode(key)\n        start = hashValue\n        index = hashValue\n        while True:\n            node = self._arr[index]\n            if node is not None:\n                if node.key == key:\n                    return node.value\n            else: # The key does not exist\n                return None\n            index = (index + 1) % self._maxSize\n            # The key does not exist\n            if index == start:\n                return None\n\n    def isEmpty(self):\n        return self._currentSize == 0\n\n    def __str__(self):\n        s = \"\"\n        for n in self._arr:\n            if n is not None:\n                s += f\"(Key: {n.key}, Value: {n.value})\\n\"\n            else:\n                s += \"None\\n\"\n        return s",
      "metadata": {
        "trusted": true
      },
      "execution_count": 6,
      "outputs": []
    },
    {
      "cell_type": "code",
      "source": "from random import choice\n\nMAP_SIZE = 15\nNODE_COUNT = 10\n\ndef get_nodes(n):\n    numbers = list(range(1000))\n    l = []\n    for i in range(n):\n        l.append((choice(numbers), choice(numbers)))\n    return l\n\nif __name__ == '__main__':\n    m = Map(MAP_SIZE)\n    nodes = get_nodes(NODE_COUNT)\n    print(nodes)\n    for n in nodes:\n        m.insertNode(n[0], n[1])\n    print(m)",
      "metadata": {
        "trusted": true
      },
      "execution_count": 7,
      "outputs": [
        {
          "name": "stdout",
          "text": "[(768, 990), (985, 670), (732, 494), (490, 21), (384, 270), (639, 150), (979, 374), (138, 72), (850, 427), (256, 768)]\nNone\n(Key: 256, Value: 768)\nNone\n(Key: 768, Value: 990)\n(Key: 979, Value: 374)\n(Key: 138, Value: 72)\nNone\nNone\nNone\n(Key: 384, Value: 270)\n(Key: 985, Value: 670)\n(Key: 490, Value: 21)\n(Key: 732, Value: 494)\n(Key: 639, Value: 150)\n(Key: 850, Value: 427)\n\n",
          "output_type": "stream"
        }
      ]
    },
    {
      "cell_type": "code",
      "source": "",
      "metadata": {},
      "execution_count": null,
      "outputs": []
    }
  ]
}