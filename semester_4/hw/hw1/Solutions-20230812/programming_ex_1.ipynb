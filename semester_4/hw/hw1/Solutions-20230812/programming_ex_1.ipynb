{
 "cells": [
  {
   "cell_type": "markdown",
   "metadata": {},
   "source": [
    "# ML Assignment 1 - Reference solutions"
   ]
  },
  {
   "cell_type": "code",
   "execution_count": 1,
   "metadata": {},
   "outputs": [],
   "source": [
    "import numpy as np"
   ]
  },
  {
   "cell_type": "markdown",
   "metadata": {},
   "source": [
    "Creating numpy arrays"
   ]
  },
  {
   "cell_type": "code",
   "execution_count": 2,
   "metadata": {},
   "outputs": [],
   "source": [
    "a = np.array([1., 1., 0.])\n",
    "\n",
    "b = np.array([-1. ,2. ,5.])\n",
    "\n",
    "M = np.array([[2. ,-1., 0.],\n",
    "            [-1. ,2. ,-1.],\n",
    "            [0. ,-1. ,2.]])"
   ]
  },
  {
   "cell_type": "markdown",
   "metadata": {},
   "source": [
    "a) Compute and print the inner product between a and b."
   ]
  },
  {
   "cell_type": "code",
   "execution_count": 3,
   "metadata": {},
   "outputs": [
    {
     "name": "stdout",
     "output_type": "stream",
     "text": [
      "1.0\n"
     ]
    }
   ],
   "source": [
    "print(np.dot(a,b))"
   ]
  },
  {
   "cell_type": "markdown",
   "metadata": {},
   "source": [
    "b) Compute and print the matrix-vector product between M and b."
   ]
  },
  {
   "cell_type": "code",
   "execution_count": 4,
   "metadata": {},
   "outputs": [
    {
     "name": "stdout",
     "output_type": "stream",
     "text": [
      "[-4.  0.  8.]\n"
     ]
    }
   ],
   "source": [
    "print(np.dot(M,b))"
   ]
  },
  {
   "cell_type": "markdown",
   "metadata": {},
   "source": [
    "c) Compute and print the l2 norm of b.\n",
    "\n",
    "L2 norm of a vector is defined as the square root of the sum of the squares of its values. For a 1d vector b, it can be calculated as square root of b(transpose).b = dot product of vector by itself"
   ]
  },
  {
   "cell_type": "code",
   "execution_count": 5,
   "metadata": {
    "scrolled": true
   },
   "outputs": [
    {
     "name": "stdout",
     "output_type": "stream",
     "text": [
      "5.477225575051661\n"
     ]
    }
   ],
   "source": [
    "print(np.sqrt(np.dot(b,b)))"
   ]
  },
  {
   "cell_type": "markdown",
   "metadata": {},
   "source": [
    "d) Compute and print the solution x of the linear system of equations Mx = b using the LU factorization."
   ]
  },
  {
   "cell_type": "markdown",
   "metadata": {},
   "source": [
    "Most Linear Algebra functions are present in numpy.linalg library. Ones not covered by it can be found in scipy.linalg library which is an extension of the former. The documentation for both is comprehensive with examples.\n",
    "\n",
    "We will use scipy.linalg to solve the system of linear equations."
   ]
  },
  {
   "cell_type": "code",
   "execution_count": 6,
   "metadata": {},
   "outputs": [],
   "source": [
    "import scipy.linalg as la"
   ]
  },
  {
   "cell_type": "code",
   "execution_count": 7,
   "metadata": {},
   "outputs": [
    {
     "name": "stdout",
     "output_type": "stream",
     "text": [
      "(array([[ 2.        , -1.        ,  0.        ],\n",
      "       [-0.5       ,  1.5       , -1.        ],\n",
      "       [ 0.        , -0.66666667,  1.33333333]]), array([0, 1, 2], dtype=int32))\n"
     ]
    }
   ],
   "source": [
    "#Factorize matrix M into upper and lower triangular matrices.\n",
    "#If you observe the result of the factorization, you should have questions!\n",
    "#Please go through the documentation to understand the results.\n",
    "\n",
    "LU = la.lu_factor(M)\n",
    "print(LU)"
   ]
  },
  {
   "cell_type": "code",
   "execution_count": 8,
   "metadata": {},
   "outputs": [
    {
     "name": "stdout",
     "output_type": "stream",
     "text": [
      "[1.5 4.  4.5]\n"
     ]
    }
   ],
   "source": [
    "#Use the LU factors to solve the system\n",
    "x = la.lu_solve(LU,b)\n",
    "print(x)"
   ]
  },
  {
   "cell_type": "code",
   "execution_count": 9,
   "metadata": {
    "scrolled": true
   },
   "outputs": [
    {
     "data": {
      "text/plain": [
       "True"
      ]
     },
     "execution_count": 9,
     "metadata": {},
     "output_type": "execute_result"
    }
   ],
   "source": [
    "#Finally cross check if x is a solution for the system (Mx = b)\n",
    "np.allclose(np.dot(M,x), b)"
   ]
  },
  {
   "cell_type": "markdown",
   "metadata": {},
   "source": [
    "e) Compute and print the the solution x of the linear system of equationsMx = b using the Cholesky factorization."
   ]
  },
  {
   "cell_type": "code",
   "execution_count": 10,
   "metadata": {},
   "outputs": [
    {
     "data": {
      "text/plain": [
       "array([[ 1.41421356, -0.70710678,  0.        ],\n",
       "       [-1.        ,  1.22474487, -0.81649658],\n",
       "       [ 0.        , -1.        ,  1.15470054]])"
      ]
     },
     "execution_count": 10,
     "metadata": {},
     "output_type": "execute_result"
    }
   ],
   "source": [
    "#Decompose the matrix into Cholesky factors M=LL*\n",
    "#Again, please check documentation to understand the results\n",
    "c, low = la.cho_factor(M)\n",
    "c"
   ]
  },
  {
   "cell_type": "code",
   "execution_count": 11,
   "metadata": {},
   "outputs": [
    {
     "data": {
      "text/plain": [
       "array([1.5, 4. , 4.5])"
      ]
     },
     "execution_count": 11,
     "metadata": {},
     "output_type": "execute_result"
    }
   ],
   "source": [
    "#Solve the system using cholesky factors\n",
    "x = la.cho_solve((c, low), b)\n",
    "x"
   ]
  },
  {
   "cell_type": "markdown",
   "metadata": {},
   "source": [
    "Notice, we get the same solution as before."
   ]
  }
 ],
 "metadata": {
  "kernelspec": {
   "display_name": "Python 3",
   "language": "python",
   "name": "python3"
  },
  "language_info": {
   "codemirror_mode": {
    "name": "ipython",
    "version": 3
   },
   "file_extension": ".py",
   "mimetype": "text/x-python",
   "name": "python",
   "nbconvert_exporter": "python",
   "pygments_lexer": "ipython3",
   "version": "3.7.7"
  }
 },
 "nbformat": 4,
 "nbformat_minor": 4
}
